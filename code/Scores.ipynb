{
 "cells": [
  {
   "cell_type": "code",
   "execution_count": 50,
   "metadata": {},
   "outputs": [],
   "source": [
    "#!/usr/bin/env python3\n",
    "\n",
    "# Copyright 2018 Bryant Durrell\n",
    "# \n",
    "# Redistribution and use in source and binary forms, with or without\n",
    "# modification, are permitted provided that the following conditions are\n",
    "# met:\n",
    "# \n",
    "# 1. Redistributions of source code must retain the above copyright\n",
    "# notice, this list of conditions and the following disclaimer.\n",
    "# \n",
    "# 2. Redistributions in binary form must reproduce the above copyright\n",
    "# notice, this list of conditions and the following disclaimer in the\n",
    "# documentation and/or other materials provided with the distribution.\n",
    "# \n",
    "# 3. Neither the name of the copyright holder nor the names of its\n",
    "# contributors may be used to endorse or promote products derived from\n",
    "# this software without specific prior written permission.\n",
    "# \n",
    "# THIS SOFTWARE IS PROVIDED BY THE COPYRIGHT HOLDERS AND CONTRIBUTORS \"AS\n",
    "# IS\" AND ANY EXPRESS OR IMPLIED WARRANTIES, INCLUDING, BUT NOT LIMITED\n",
    "# TO, THE IMPLIED WARRANTIES OF MERCHANTABILITY AND FITNESS FOR A\n",
    "# PARTICULAR PURPOSE ARE DISCLAIMED. IN NO EVENT SHALL THE COPYRIGHT\n",
    "# HOLDER OR CONTRIBUTORS BE LIABLE FOR ANY DIRECT, INDIRECT, INCIDENTAL,\n",
    "# SPECIAL, EXEMPLARY, OR CONSEQUENTIAL DAMAGES (INCLUDING, BUT NOT LIMITED\n",
    "# TO, PROCUREMENT OF SUBSTITUTE GOODS OR SERVICES; LOSS OF USE, DATA, OR\n",
    "# PROFITS; OR BUSINESS INTERRUPTION) HOWEVER CAUSED AND ON ANY THEORY OF\n",
    "# LIABILITY, WHETHER IN CONTRACT, STRICT LIABILITY, OR TORT (INCLUDING\n",
    "# NEGLIGENCE OR OTHERWISE) ARISING IN ANY WAY OUT OF THE USE OF THIS\n",
    "# SOFTWARE, EVEN IF ADVISED OF THE POSSIBILITY OF SUCH DAMAGE.\n",
    "\n",
    "import argparse\n",
    "import json\n",
    "import tweepy\n",
    "import tracery\n",
    "from tracery.modifiers import base_english\n",
    "#from credentials import *\n",
    "\n",
    "\n",
    "def generate_score():\n",
    "    parser = argparse.ArgumentParser(description='Blades in the Dark tweetbot')\n",
    "    parser.add_argument('--grammar', required=True, help='JSON grammar')\n",
    "    parser.add_argument('--maxlen', default=280, type=int, help='Max tweet length')\n",
    "    parser.add_argument('--print', help='Print score', action='store_true')\n",
    "    parser.add_argument('--tweet', help='Tweet score', action='store_true')\n",
    "    #args = parser.parse_args()\n",
    "\n",
    "    #with open(args.grammar) as data_file:\n",
    "    rules = json.load(open('grammars/SV-score.json'))\n",
    "\n",
    "    grammar = tracery.Grammar(rules)\n",
    "    grammar.add_modifiers(base_english)\n",
    "\n",
    "    score = ''\n",
    "    while len(score) == 0:\n",
    "        score = grammar.flatten('#origin#')\n",
    "        if len(score) > 280:\n",
    "            score = ''\n",
    "\n",
    "    score = ' '.join(score.split())\n",
    "\n",
    "    return score"
   ]
  },
  {
   "cell_type": "code",
   "execution_count": 54,
   "metadata": {},
   "outputs": [
    {
     "data": {
      "text/plain": [
       "\"A wormhole, who coincidentally hates a crew member's friend, hires the crew to threaten a diplomat. Unfortunately, the job is a trap. How are the the Concordiat Knights involved?\""
      ]
     },
     "execution_count": 54,
     "metadata": {},
     "output_type": "execute_result"
    }
   ],
   "source": [
    "generate_score()"
   ]
  },
  {
   "cell_type": "code",
   "execution_count": null,
   "metadata": {},
   "outputs": [],
   "source": []
  },
  {
   "cell_type": "code",
   "execution_count": null,
   "metadata": {},
   "outputs": [],
   "source": []
  }
 ],
 "metadata": {
  "kernelspec": {
   "display_name": "Python 3",
   "language": "python",
   "name": "python3"
  },
  "language_info": {
   "codemirror_mode": {
    "name": "ipython",
    "version": 3
   },
   "file_extension": ".py",
   "mimetype": "text/x-python",
   "name": "python",
   "nbconvert_exporter": "python",
   "pygments_lexer": "ipython3",
   "version": "3.7.3"
  }
 },
 "nbformat": 4,
 "nbformat_minor": 2
}
